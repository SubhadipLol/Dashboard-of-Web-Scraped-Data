{
 "cells": [
  {
   "cell_type": "code",
   "execution_count": 1,
   "id": "2097b210-0218-4f32-8408-7cc63294e2ef",
   "metadata": {},
   "outputs": [],
   "source": [
    "from bs4 import BeautifulSoup\n",
    "import pandas\n",
    "import requests"
   ]
  },
  {
   "cell_type": "code",
   "execution_count": 2,
   "id": "4cb0d280-bc6a-49b2-bc7c-9f0a33983975",
   "metadata": {},
   "outputs": [],
   "source": [
    "def get_title(soup):\n",
    "    try:\n",
    "        title=soup.find(\"span\",attrs={\"class\":\"a-size-medium a-color-base a-text-normal\"})\n",
    "        title_value=title.text.strip()\n",
    "    except AttributeError:\n",
    "        title_value=\"\"\n",
    "    return title_value"
   ]
  },
  {
   "cell_type": "code",
   "execution_count": 3,
   "id": "bf67fd3c-492f-4df9-808b-30e24932d068",
   "metadata": {},
   "outputs": [],
   "source": [
    "url=\"https://www.amazon.in/s?k=smartphones+5g\"\n",
    "Header=({'User-Agent':'Mozilla/5.0 (Windows NT 10.0; Win64; x64) AppleWebKit/537.36 (KHTML, like Gecko) Chrome/126.0.0.0 Safari/537.36','Accept-Language':'en-US,en;q=0.5'})"
   ]
  },
  {
   "cell_type": "code",
   "execution_count": 19,
   "id": "236c3915-7ff0-40cd-92d6-f689149e5ad7",
   "metadata": {},
   "outputs": [
    {
     "name": "stdout",
     "output_type": "stream",
     "text": [
      "<Response [503]>\n"
     ]
    }
   ],
   "source": [
    "page=requests.get(url,headers=Header)\n",
    "soup=BeautifulSoup(page.content,\"html.parser\")\n",
    "print(page)"
   ]
  },
  {
   "cell_type": "code",
   "execution_count": 16,
   "id": "45ab6a6f-fc30-4f06-a833-0a3ebb4f426c",
   "metadata": {},
   "outputs": [
    {
     "data": {
      "text/plain": [
       "[]"
      ]
     },
     "execution_count": 16,
     "metadata": {},
     "output_type": "execute_result"
    }
   ],
   "source": [
    "links=soup.find_all(\"a\",attrs={'class':'a-link-normal s-underline-text s-underline-link-text s-link-style a-text-normal'})\n",
    "links\n"
   ]
  },
  {
   "cell_type": "code",
   "execution_count": 18,
   "id": "eadfae3f-8c9b-4583-b767-ed617aad01ad",
   "metadata": {},
   "outputs": [],
   "source": [
    "links_list=[]\n",
    "for link in links:\n",
    "    links_list.append(link.get('href'))"
   ]
  },
  {
   "cell_type": "code",
   "execution_count": 7,
   "id": "a28a985f-8bc4-4030-b582-53ce1b7455a0",
   "metadata": {},
   "outputs": [],
   "source": [
    "d={\"title\":[],\"price\":[],\"ratings\":[],\"availability\":[]}"
   ]
  },
  {
   "cell_type": "code",
   "execution_count": 8,
   "id": "8ec91ccc-21b3-48da-bf02-f05720c729d1",
   "metadata": {},
   "outputs": [],
   "source": [
    "for link in links_list:\n",
    "    new_page=requests.get(\"https://www.amazon.in\"+link,headers=Header)\n",
    "    new_soup=BeautifulSoup(new_page.content,\"html.parser\")\n",
    "    d[\"title\"].append(get_title(new_soup))"
   ]
  },
  {
   "cell_type": "code",
   "execution_count": 10,
   "id": "5d8ebfe2-9ab3-4a72-8867-e55eeb01c41a",
   "metadata": {},
   "outputs": [
    {
     "name": "stdout",
     "output_type": "stream",
     "text": [
      "{'title': [], 'price': [], 'ratings': [], 'availability': []}\n"
     ]
    }
   ],
   "source": [
    "print(d)"
   ]
  },
  {
   "cell_type": "code",
   "execution_count": null,
   "id": "4938064f-d90f-4420-8414-ad2dedf70de9",
   "metadata": {},
   "outputs": [],
   "source": []
  }
 ],
 "metadata": {
  "kernelspec": {
   "display_name": "Python 3 (ipykernel)",
   "language": "python",
   "name": "python3"
  },
  "language_info": {
   "codemirror_mode": {
    "name": "ipython",
    "version": 3
   },
   "file_extension": ".py",
   "mimetype": "text/x-python",
   "name": "python",
   "nbconvert_exporter": "python",
   "pygments_lexer": "ipython3",
   "version": "3.12.3"
  }
 },
 "nbformat": 4,
 "nbformat_minor": 5
}
